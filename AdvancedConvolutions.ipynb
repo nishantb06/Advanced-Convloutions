{
  "nbformat": 4,
  "nbformat_minor": 0,
  "metadata": {
    "colab": {
      "name": "AdvancedConvolutions.ipynb",
      "provenance": [],
      "collapsed_sections": [],
      "include_colab_link": true
    },
    "kernelspec": {
      "name": "python3",
      "display_name": "Python 3"
    },
    "language_info": {
      "name": "python"
    },
    "accelerator": "GPU",
    "widgets": {
      "application/vnd.jupyter.widget-state+json": {
        "bb0333897091415a8890134594e40604": {
          "model_module": "@jupyter-widgets/controls",
          "model_name": "HBoxModel",
          "model_module_version": "1.5.0",
          "state": {
            "_view_name": "HBoxView",
            "_dom_classes": [],
            "_model_name": "HBoxModel",
            "_view_module": "@jupyter-widgets/controls",
            "_model_module_version": "1.5.0",
            "_view_count": null,
            "_view_module_version": "1.5.0",
            "box_style": "",
            "layout": "IPY_MODEL_2cfae5d34db7424a894705bb9711bb50",
            "_model_module": "@jupyter-widgets/controls",
            "children": [
              "IPY_MODEL_3d3702ce29a24f61a9ba404f60659e73",
              "IPY_MODEL_c7c3f82e554744b79f6c5700fff55360",
              "IPY_MODEL_219ecc329fff433a8921dc99c0d589aa"
            ]
          }
        },
        "2cfae5d34db7424a894705bb9711bb50": {
          "model_module": "@jupyter-widgets/base",
          "model_name": "LayoutModel",
          "model_module_version": "1.2.0",
          "state": {
            "_view_name": "LayoutView",
            "grid_template_rows": null,
            "right": null,
            "justify_content": null,
            "_view_module": "@jupyter-widgets/base",
            "overflow": null,
            "_model_module_version": "1.2.0",
            "_view_count": null,
            "flex_flow": null,
            "width": null,
            "min_width": null,
            "border": null,
            "align_items": null,
            "bottom": null,
            "_model_module": "@jupyter-widgets/base",
            "top": null,
            "grid_column": null,
            "overflow_y": null,
            "overflow_x": null,
            "grid_auto_flow": null,
            "grid_area": null,
            "grid_template_columns": null,
            "flex": null,
            "_model_name": "LayoutModel",
            "justify_items": null,
            "grid_row": null,
            "max_height": null,
            "align_content": null,
            "visibility": null,
            "align_self": null,
            "height": null,
            "min_height": null,
            "padding": null,
            "grid_auto_rows": null,
            "grid_gap": null,
            "max_width": null,
            "order": null,
            "_view_module_version": "1.2.0",
            "grid_template_areas": null,
            "object_position": null,
            "object_fit": null,
            "grid_auto_columns": null,
            "margin": null,
            "display": null,
            "left": null
          }
        },
        "3d3702ce29a24f61a9ba404f60659e73": {
          "model_module": "@jupyter-widgets/controls",
          "model_name": "HTMLModel",
          "model_module_version": "1.5.0",
          "state": {
            "_view_name": "HTMLView",
            "style": "IPY_MODEL_abea413c7df44103b33c20105a5e8e2b",
            "_dom_classes": [],
            "description": "",
            "_model_name": "HTMLModel",
            "placeholder": "​",
            "_view_module": "@jupyter-widgets/controls",
            "_model_module_version": "1.5.0",
            "value": "",
            "_view_count": null,
            "_view_module_version": "1.5.0",
            "description_tooltip": null,
            "_model_module": "@jupyter-widgets/controls",
            "layout": "IPY_MODEL_61dfade6134842ea932eafccb019d6b9"
          }
        },
        "c7c3f82e554744b79f6c5700fff55360": {
          "model_module": "@jupyter-widgets/controls",
          "model_name": "FloatProgressModel",
          "model_module_version": "1.5.0",
          "state": {
            "_view_name": "ProgressView",
            "style": "IPY_MODEL_a1080c0c8fa24b84b801932683b05a50",
            "_dom_classes": [],
            "description": "",
            "_model_name": "FloatProgressModel",
            "bar_style": "success",
            "max": 170498071,
            "_view_module": "@jupyter-widgets/controls",
            "_model_module_version": "1.5.0",
            "value": 170498071,
            "_view_count": null,
            "_view_module_version": "1.5.0",
            "orientation": "horizontal",
            "min": 0,
            "description_tooltip": null,
            "_model_module": "@jupyter-widgets/controls",
            "layout": "IPY_MODEL_16975f3a40d941c1bc996ba8b0ce1b7e"
          }
        },
        "219ecc329fff433a8921dc99c0d589aa": {
          "model_module": "@jupyter-widgets/controls",
          "model_name": "HTMLModel",
          "model_module_version": "1.5.0",
          "state": {
            "_view_name": "HTMLView",
            "style": "IPY_MODEL_5e8177e4870a40048618672162499ac4",
            "_dom_classes": [],
            "description": "",
            "_model_name": "HTMLModel",
            "placeholder": "​",
            "_view_module": "@jupyter-widgets/controls",
            "_model_module_version": "1.5.0",
            "value": " 170499072/? [00:06&lt;00:00, 32685056.18it/s]",
            "_view_count": null,
            "_view_module_version": "1.5.0",
            "description_tooltip": null,
            "_model_module": "@jupyter-widgets/controls",
            "layout": "IPY_MODEL_d2d427003a154d5698156bec2ff3eadd"
          }
        },
        "abea413c7df44103b33c20105a5e8e2b": {
          "model_module": "@jupyter-widgets/controls",
          "model_name": "DescriptionStyleModel",
          "model_module_version": "1.5.0",
          "state": {
            "_view_name": "StyleView",
            "_model_name": "DescriptionStyleModel",
            "description_width": "",
            "_view_module": "@jupyter-widgets/base",
            "_model_module_version": "1.5.0",
            "_view_count": null,
            "_view_module_version": "1.2.0",
            "_model_module": "@jupyter-widgets/controls"
          }
        },
        "61dfade6134842ea932eafccb019d6b9": {
          "model_module": "@jupyter-widgets/base",
          "model_name": "LayoutModel",
          "model_module_version": "1.2.0",
          "state": {
            "_view_name": "LayoutView",
            "grid_template_rows": null,
            "right": null,
            "justify_content": null,
            "_view_module": "@jupyter-widgets/base",
            "overflow": null,
            "_model_module_version": "1.2.0",
            "_view_count": null,
            "flex_flow": null,
            "width": null,
            "min_width": null,
            "border": null,
            "align_items": null,
            "bottom": null,
            "_model_module": "@jupyter-widgets/base",
            "top": null,
            "grid_column": null,
            "overflow_y": null,
            "overflow_x": null,
            "grid_auto_flow": null,
            "grid_area": null,
            "grid_template_columns": null,
            "flex": null,
            "_model_name": "LayoutModel",
            "justify_items": null,
            "grid_row": null,
            "max_height": null,
            "align_content": null,
            "visibility": null,
            "align_self": null,
            "height": null,
            "min_height": null,
            "padding": null,
            "grid_auto_rows": null,
            "grid_gap": null,
            "max_width": null,
            "order": null,
            "_view_module_version": "1.2.0",
            "grid_template_areas": null,
            "object_position": null,
            "object_fit": null,
            "grid_auto_columns": null,
            "margin": null,
            "display": null,
            "left": null
          }
        },
        "a1080c0c8fa24b84b801932683b05a50": {
          "model_module": "@jupyter-widgets/controls",
          "model_name": "ProgressStyleModel",
          "model_module_version": "1.5.0",
          "state": {
            "_view_name": "StyleView",
            "_model_name": "ProgressStyleModel",
            "description_width": "",
            "_view_module": "@jupyter-widgets/base",
            "_model_module_version": "1.5.0",
            "_view_count": null,
            "_view_module_version": "1.2.0",
            "bar_color": null,
            "_model_module": "@jupyter-widgets/controls"
          }
        },
        "16975f3a40d941c1bc996ba8b0ce1b7e": {
          "model_module": "@jupyter-widgets/base",
          "model_name": "LayoutModel",
          "model_module_version": "1.2.0",
          "state": {
            "_view_name": "LayoutView",
            "grid_template_rows": null,
            "right": null,
            "justify_content": null,
            "_view_module": "@jupyter-widgets/base",
            "overflow": null,
            "_model_module_version": "1.2.0",
            "_view_count": null,
            "flex_flow": null,
            "width": null,
            "min_width": null,
            "border": null,
            "align_items": null,
            "bottom": null,
            "_model_module": "@jupyter-widgets/base",
            "top": null,
            "grid_column": null,
            "overflow_y": null,
            "overflow_x": null,
            "grid_auto_flow": null,
            "grid_area": null,
            "grid_template_columns": null,
            "flex": null,
            "_model_name": "LayoutModel",
            "justify_items": null,
            "grid_row": null,
            "max_height": null,
            "align_content": null,
            "visibility": null,
            "align_self": null,
            "height": null,
            "min_height": null,
            "padding": null,
            "grid_auto_rows": null,
            "grid_gap": null,
            "max_width": null,
            "order": null,
            "_view_module_version": "1.2.0",
            "grid_template_areas": null,
            "object_position": null,
            "object_fit": null,
            "grid_auto_columns": null,
            "margin": null,
            "display": null,
            "left": null
          }
        },
        "5e8177e4870a40048618672162499ac4": {
          "model_module": "@jupyter-widgets/controls",
          "model_name": "DescriptionStyleModel",
          "model_module_version": "1.5.0",
          "state": {
            "_view_name": "StyleView",
            "_model_name": "DescriptionStyleModel",
            "description_width": "",
            "_view_module": "@jupyter-widgets/base",
            "_model_module_version": "1.5.0",
            "_view_count": null,
            "_view_module_version": "1.2.0",
            "_model_module": "@jupyter-widgets/controls"
          }
        },
        "d2d427003a154d5698156bec2ff3eadd": {
          "model_module": "@jupyter-widgets/base",
          "model_name": "LayoutModel",
          "model_module_version": "1.2.0",
          "state": {
            "_view_name": "LayoutView",
            "grid_template_rows": null,
            "right": null,
            "justify_content": null,
            "_view_module": "@jupyter-widgets/base",
            "overflow": null,
            "_model_module_version": "1.2.0",
            "_view_count": null,
            "flex_flow": null,
            "width": null,
            "min_width": null,
            "border": null,
            "align_items": null,
            "bottom": null,
            "_model_module": "@jupyter-widgets/base",
            "top": null,
            "grid_column": null,
            "overflow_y": null,
            "overflow_x": null,
            "grid_auto_flow": null,
            "grid_area": null,
            "grid_template_columns": null,
            "flex": null,
            "_model_name": "LayoutModel",
            "justify_items": null,
            "grid_row": null,
            "max_height": null,
            "align_content": null,
            "visibility": null,
            "align_self": null,
            "height": null,
            "min_height": null,
            "padding": null,
            "grid_auto_rows": null,
            "grid_gap": null,
            "max_width": null,
            "order": null,
            "_view_module_version": "1.2.0",
            "grid_template_areas": null,
            "object_position": null,
            "object_fit": null,
            "grid_auto_columns": null,
            "margin": null,
            "display": null,
            "left": null
          }
        }
      }
    }
  },
  "cells": [
    {
      "cell_type": "markdown",
      "metadata": {
        "id": "view-in-github",
        "colab_type": "text"
      },
      "source": [
        "<a href=\"https://colab.research.google.com/github/nishantb06/Advanced-Convloutions/blob/master/AdvancedConvolutions.ipynb\" target=\"_parent\"><img src=\"https://colab.research.google.com/assets/colab-badge.svg\" alt=\"Open In Colab\"/></a>"
      ]
    },
    {
      "cell_type": "code",
      "metadata": {
        "colab": {
          "base_uri": "https://localhost:8080/"
        },
        "id": "OLOOXgismJ1c",
        "outputId": "effe60a6-a0d8-412d-daa8-b73ae823a035"
      },
      "source": [
        "! pip install albumentations==0.4.6\n",
        "import albumentations "
      ],
      "execution_count": null,
      "outputs": [
        {
          "output_type": "stream",
          "name": "stdout",
          "text": [
            "Collecting albumentations==0.4.6\n",
            "  Downloading albumentations-0.4.6.tar.gz (117 kB)\n",
            "\u001b[K     |████████████████████████████████| 117 kB 12.8 MB/s \n",
            "\u001b[?25hRequirement already satisfied: numpy>=1.11.1 in /usr/local/lib/python3.7/dist-packages (from albumentations==0.4.6) (1.19.5)\n",
            "Requirement already satisfied: scipy in /usr/local/lib/python3.7/dist-packages (from albumentations==0.4.6) (1.4.1)\n",
            "Collecting imgaug>=0.4.0\n",
            "  Downloading imgaug-0.4.0-py2.py3-none-any.whl (948 kB)\n",
            "\u001b[K     |████████████████████████████████| 948 kB 51.8 MB/s \n",
            "\u001b[?25hRequirement already satisfied: PyYAML in /usr/local/lib/python3.7/dist-packages (from albumentations==0.4.6) (3.13)\n",
            "Requirement already satisfied: opencv-python>=4.1.1 in /usr/local/lib/python3.7/dist-packages (from albumentations==0.4.6) (4.1.2.30)\n",
            "Requirement already satisfied: Shapely in /usr/local/lib/python3.7/dist-packages (from imgaug>=0.4.0->albumentations==0.4.6) (1.8.0)\n",
            "Requirement already satisfied: imageio in /usr/local/lib/python3.7/dist-packages (from imgaug>=0.4.0->albumentations==0.4.6) (2.4.1)\n",
            "Requirement already satisfied: Pillow in /usr/local/lib/python3.7/dist-packages (from imgaug>=0.4.0->albumentations==0.4.6) (7.1.2)\n",
            "Requirement already satisfied: matplotlib in /usr/local/lib/python3.7/dist-packages (from imgaug>=0.4.0->albumentations==0.4.6) (3.2.2)\n",
            "Requirement already satisfied: six in /usr/local/lib/python3.7/dist-packages (from imgaug>=0.4.0->albumentations==0.4.6) (1.15.0)\n",
            "Requirement already satisfied: scikit-image>=0.14.2 in /usr/local/lib/python3.7/dist-packages (from imgaug>=0.4.0->albumentations==0.4.6) (0.16.2)\n",
            "Requirement already satisfied: networkx>=2.0 in /usr/local/lib/python3.7/dist-packages (from scikit-image>=0.14.2->imgaug>=0.4.0->albumentations==0.4.6) (2.6.3)\n",
            "Requirement already satisfied: PyWavelets>=0.4.0 in /usr/local/lib/python3.7/dist-packages (from scikit-image>=0.14.2->imgaug>=0.4.0->albumentations==0.4.6) (1.2.0)\n",
            "Requirement already satisfied: pyparsing!=2.0.4,!=2.1.2,!=2.1.6,>=2.0.1 in /usr/local/lib/python3.7/dist-packages (from matplotlib->imgaug>=0.4.0->albumentations==0.4.6) (2.4.7)\n",
            "Requirement already satisfied: python-dateutil>=2.1 in /usr/local/lib/python3.7/dist-packages (from matplotlib->imgaug>=0.4.0->albumentations==0.4.6) (2.8.2)\n",
            "Requirement already satisfied: kiwisolver>=1.0.1 in /usr/local/lib/python3.7/dist-packages (from matplotlib->imgaug>=0.4.0->albumentations==0.4.6) (1.3.2)\n",
            "Requirement already satisfied: cycler>=0.10 in /usr/local/lib/python3.7/dist-packages (from matplotlib->imgaug>=0.4.0->albumentations==0.4.6) (0.11.0)\n",
            "Building wheels for collected packages: albumentations\n",
            "  Building wheel for albumentations (setup.py) ... \u001b[?25l\u001b[?25hdone\n",
            "  Created wheel for albumentations: filename=albumentations-0.4.6-py3-none-any.whl size=65172 sha256=5365227b83862b8023877508b39dc440ec5e04bb4a853b4b65ecad4aea5018bd\n",
            "  Stored in directory: /root/.cache/pip/wheels/cf/34/0f/cb2a5f93561a181a4bcc84847ad6aaceea8b5a3127469616cc\n",
            "Successfully built albumentations\n",
            "Installing collected packages: imgaug, albumentations\n",
            "  Attempting uninstall: imgaug\n",
            "    Found existing installation: imgaug 0.2.9\n",
            "    Uninstalling imgaug-0.2.9:\n",
            "      Successfully uninstalled imgaug-0.2.9\n",
            "  Attempting uninstall: albumentations\n",
            "    Found existing installation: albumentations 0.1.12\n",
            "    Uninstalling albumentations-0.1.12:\n",
            "      Successfully uninstalled albumentations-0.1.12\n",
            "Successfully installed albumentations-0.4.6 imgaug-0.4.0\n"
          ]
        }
      ]
    },
    {
      "cell_type": "code",
      "metadata": {
        "id": "UXn6-QFAt9lW"
      },
      "source": [
        "from albumentations.pytorch import ToTensorV2"
      ],
      "execution_count": null,
      "outputs": []
    },
    {
      "cell_type": "code",
      "metadata": {
        "id": "vUx4nXu5_4U_",
        "colab": {
          "base_uri": "https://localhost:8080/",
          "height": 99,
          "referenced_widgets": [
            "bb0333897091415a8890134594e40604",
            "2cfae5d34db7424a894705bb9711bb50",
            "3d3702ce29a24f61a9ba404f60659e73",
            "c7c3f82e554744b79f6c5700fff55360",
            "219ecc329fff433a8921dc99c0d589aa",
            "abea413c7df44103b33c20105a5e8e2b",
            "61dfade6134842ea932eafccb019d6b9",
            "a1080c0c8fa24b84b801932683b05a50",
            "16975f3a40d941c1bc996ba8b0ce1b7e",
            "5e8177e4870a40048618672162499ac4",
            "d2d427003a154d5698156bec2ff3eadd"
          ]
        },
        "outputId": "76799910-0f76-49c7-f8a9-cbd065b3fe17"
      },
      "source": [
        "import torch\n",
        "import torch.optim as optim\n",
        "from train import train\n",
        "from test import test\n",
        "from dataloader import trainloader,testloader\n",
        "from model import Net4\n",
        "import matplotlib.pyplot as plt"
      ],
      "execution_count": null,
      "outputs": [
        {
          "output_type": "stream",
          "name": "stdout",
          "text": [
            "Downloading https://www.cs.toronto.edu/~kriz/cifar-10-python.tar.gz to ./data/cifar-10-python.tar.gz\n"
          ]
        },
        {
          "output_type": "display_data",
          "data": {
            "application/vnd.jupyter.widget-view+json": {
              "model_id": "bb0333897091415a8890134594e40604",
              "version_minor": 0,
              "version_major": 2
            },
            "text/plain": [
              "  0%|          | 0/170498071 [00:00<?, ?it/s]"
            ]
          },
          "metadata": {}
        },
        {
          "output_type": "stream",
          "name": "stdout",
          "text": [
            "Extracting ./data/cifar-10-python.tar.gz to ./data\n",
            "Files already downloaded and verified\n"
          ]
        }
      ]
    },
    {
      "cell_type": "code",
      "metadata": {
        "id": "zif5YPSK_6sb",
        "colab": {
          "base_uri": "https://localhost:8080/"
        },
        "outputId": "52a297cb-cce9-4b49-c1db-0bf2458f6643"
      },
      "source": [
        "use_cuda = torch.cuda.is_available()\n",
        "device = torch.device(\"cuda\" if use_cuda else \"cpu\")\n",
        "print(device)"
      ],
      "execution_count": null,
      "outputs": [
        {
          "output_type": "stream",
          "name": "stdout",
          "text": [
            "cuda\n"
          ]
        }
      ]
    },
    {
      "cell_type": "code",
      "metadata": {
        "id": "FaTuexr0_8VI",
        "colab": {
          "base_uri": "https://localhost:8080/",
          "height": 1000
        },
        "outputId": "7fb4e810-2130-430d-b07e-158569a2fe66"
      },
      "source": [
        "model = Net4().to(device)\n",
        "optimizer = optim.SGD(model.parameters(), lr=0.3, momentum=0.9)\n",
        "scheduler = optim.lr_scheduler.StepLR(optimizer,step_size = 6,gamma = 0.5,verbose = True) \n",
        "\n",
        "train_accuracies = []\n",
        "train_losses = []\n",
        "test_accuracies = []\n",
        "test_losses = []\n",
        "\n",
        "for epoch in range(1, 100):\n",
        "\n",
        "    print(f\"Epoch {epoch}\")\n",
        "    scheduler.step()\n",
        "\n",
        "    x,y = train(model, device, train_loader = trainloader, optimizer = optimizer,epoch =  epoch)\n",
        "    a,b = test(model, device, test_loader = testloader)\n",
        "\n",
        "    train_losses.append(x)\n",
        "    test_losses.append(a)\n",
        "    train_accuracies.append(y)\n",
        "    test_accuracies.append(b)"
      ],
      "execution_count": null,
      "outputs": [
        {
          "output_type": "stream",
          "name": "stderr",
          "text": [
            "/usr/local/lib/python3.7/dist-packages/torch/optim/lr_scheduler.py:134: UserWarning: Detected call of `lr_scheduler.step()` before `optimizer.step()`. In PyTorch 1.1.0 and later, you should call them in the opposite order: `optimizer.step()` before `lr_scheduler.step()`.  Failure to do this will result in PyTorch skipping the first value of the learning rate schedule. See more details at https://pytorch.org/docs/stable/optim.html#how-to-adjust-learning-rate\n",
            "  \"https://pytorch.org/docs/stable/optim.html#how-to-adjust-learning-rate\", UserWarning)\n"
          ]
        },
        {
          "output_type": "stream",
          "name": "stdout",
          "text": [
            "Adjusting learning rate of group 0 to 3.0000e-01.\n",
            "Epoch 1\n",
            "Adjusting learning rate of group 0 to 3.0000e-01.\n"
          ]
        },
        {
          "output_type": "stream",
          "name": "stderr",
          "text": [
            "Loss=1.645059585571289 Batch_id=390 Train Accuracy=32.56: 100%|██████████| 391/391 [00:35<00:00, 11.10it/s]\n"
          ]
        },
        {
          "output_type": "stream",
          "name": "stdout",
          "text": [
            "\n",
            "Test set: Average loss: 1.7468, Test Accuracy: 3892/10000 (38.92%)\n",
            "\n",
            "Epoch 2\n",
            "Adjusting learning rate of group 0 to 3.0000e-01.\n"
          ]
        },
        {
          "output_type": "stream",
          "name": "stderr",
          "text": [
            "Loss=1.3600287437438965 Batch_id=390 Train Accuracy=43.78: 100%|██████████| 391/391 [00:35<00:00, 11.16it/s]\n"
          ]
        },
        {
          "output_type": "stream",
          "name": "stdout",
          "text": [
            "\n",
            "Test set: Average loss: 1.3053, Test Accuracy: 5210/10000 (52.10%)\n",
            "\n",
            "Epoch 3\n",
            "Adjusting learning rate of group 0 to 3.0000e-01.\n"
          ]
        },
        {
          "output_type": "stream",
          "name": "stderr",
          "text": [
            "Loss=1.4107935428619385 Batch_id=390 Train Accuracy=49.64: 100%|██████████| 391/391 [00:35<00:00, 11.11it/s]\n"
          ]
        },
        {
          "output_type": "stream",
          "name": "stdout",
          "text": [
            "\n",
            "Test set: Average loss: 1.1650, Test Accuracy: 5669/10000 (56.69%)\n",
            "\n",
            "Epoch 4\n",
            "Adjusting learning rate of group 0 to 3.0000e-01.\n"
          ]
        },
        {
          "output_type": "stream",
          "name": "stderr",
          "text": [
            "Loss=1.1342294216156006 Batch_id=390 Train Accuracy=53.23: 100%|██████████| 391/391 [00:35<00:00, 11.11it/s]\n"
          ]
        },
        {
          "output_type": "stream",
          "name": "stdout",
          "text": [
            "\n",
            "Test set: Average loss: 1.0260, Test Accuracy: 6373/10000 (63.73%)\n",
            "\n",
            "Epoch 5\n",
            "Adjusting learning rate of group 0 to 3.0000e-01.\n"
          ]
        },
        {
          "output_type": "stream",
          "name": "stderr",
          "text": [
            "Loss=1.2316675186157227 Batch_id=390 Train Accuracy=56.36: 100%|██████████| 391/391 [00:35<00:00, 11.04it/s]\n"
          ]
        },
        {
          "output_type": "stream",
          "name": "stdout",
          "text": [
            "\n",
            "Test set: Average loss: 0.9291, Test Accuracy: 6727/10000 (67.27%)\n",
            "\n",
            "Epoch 6\n",
            "Adjusting learning rate of group 0 to 1.5000e-01.\n"
          ]
        },
        {
          "output_type": "stream",
          "name": "stderr",
          "text": [
            "Loss=0.8941656351089478 Batch_id=390 Train Accuracy=61.78: 100%|██████████| 391/391 [00:35<00:00, 11.13it/s]\n"
          ]
        },
        {
          "output_type": "stream",
          "name": "stdout",
          "text": [
            "\n",
            "Test set: Average loss: 0.8457, Test Accuracy: 7042/10000 (70.42%)\n",
            "\n",
            "Epoch 7\n",
            "Adjusting learning rate of group 0 to 1.5000e-01.\n"
          ]
        },
        {
          "output_type": "stream",
          "name": "stderr",
          "text": [
            "Loss=1.0684435367584229 Batch_id=390 Train Accuracy=64.07: 100%|██████████| 391/391 [00:35<00:00, 11.12it/s]\n"
          ]
        },
        {
          "output_type": "stream",
          "name": "stdout",
          "text": [
            "\n",
            "Test set: Average loss: 0.8196, Test Accuracy: 7071/10000 (70.71%)\n",
            "\n",
            "Epoch 8\n",
            "Adjusting learning rate of group 0 to 1.5000e-01.\n"
          ]
        },
        {
          "output_type": "stream",
          "name": "stderr",
          "text": [
            "Loss=1.1141233444213867 Batch_id=390 Train Accuracy=64.87: 100%|██████████| 391/391 [00:34<00:00, 11.22it/s]\n"
          ]
        },
        {
          "output_type": "stream",
          "name": "stdout",
          "text": [
            "\n",
            "Test set: Average loss: 0.7425, Test Accuracy: 7460/10000 (74.60%)\n",
            "\n",
            "Epoch 9\n",
            "Adjusting learning rate of group 0 to 1.5000e-01.\n"
          ]
        },
        {
          "output_type": "stream",
          "name": "stderr",
          "text": [
            "Loss=0.8740140795707703 Batch_id=390 Train Accuracy=66.30: 100%|██████████| 391/391 [00:34<00:00, 11.22it/s]\n"
          ]
        },
        {
          "output_type": "stream",
          "name": "stdout",
          "text": [
            "\n",
            "Test set: Average loss: 0.6944, Test Accuracy: 7601/10000 (76.01%)\n",
            "\n",
            "Epoch 10\n",
            "Adjusting learning rate of group 0 to 1.5000e-01.\n"
          ]
        },
        {
          "output_type": "stream",
          "name": "stderr",
          "text": [
            "Loss=1.0857027769088745 Batch_id=390 Train Accuracy=67.34: 100%|██████████| 391/391 [00:34<00:00, 11.27it/s]\n"
          ]
        },
        {
          "output_type": "stream",
          "name": "stdout",
          "text": [
            "\n",
            "Test set: Average loss: 0.7641, Test Accuracy: 7391/10000 (73.91%)\n",
            "\n",
            "Epoch 11\n",
            "Adjusting learning rate of group 0 to 1.5000e-01.\n"
          ]
        },
        {
          "output_type": "stream",
          "name": "stderr",
          "text": [
            "Loss=1.0172559022903442 Batch_id=390 Train Accuracy=68.05: 100%|██████████| 391/391 [00:34<00:00, 11.26it/s]\n"
          ]
        },
        {
          "output_type": "stream",
          "name": "stdout",
          "text": [
            "\n",
            "Test set: Average loss: 0.6793, Test Accuracy: 7637/10000 (76.37%)\n",
            "\n",
            "Epoch 12\n",
            "Adjusting learning rate of group 0 to 7.5000e-02.\n"
          ]
        },
        {
          "output_type": "stream",
          "name": "stderr",
          "text": [
            "Loss=0.8444737195968628 Batch_id=390 Train Accuracy=70.74: 100%|██████████| 391/391 [00:34<00:00, 11.23it/s]\n"
          ]
        },
        {
          "output_type": "stream",
          "name": "stdout",
          "text": [
            "\n",
            "Test set: Average loss: 0.6766, Test Accuracy: 7695/10000 (76.95%)\n",
            "\n",
            "Epoch 13\n",
            "Adjusting learning rate of group 0 to 7.5000e-02.\n"
          ]
        },
        {
          "output_type": "stream",
          "name": "stderr",
          "text": [
            "Loss=0.6411905884742737 Batch_id=390 Train Accuracy=71.41: 100%|██████████| 391/391 [00:34<00:00, 11.22it/s]\n"
          ]
        },
        {
          "output_type": "stream",
          "name": "stdout",
          "text": [
            "\n",
            "Test set: Average loss: 0.6222, Test Accuracy: 7820/10000 (78.20%)\n",
            "\n",
            "Epoch 14\n",
            "Adjusting learning rate of group 0 to 7.5000e-02.\n"
          ]
        },
        {
          "output_type": "stream",
          "name": "stderr",
          "text": [
            "Loss=0.7963601350784302 Batch_id=390 Train Accuracy=72.31: 100%|██████████| 391/391 [00:34<00:00, 11.19it/s]\n"
          ]
        },
        {
          "output_type": "stream",
          "name": "stdout",
          "text": [
            "\n",
            "Test set: Average loss: 0.5987, Test Accuracy: 7904/10000 (79.04%)\n",
            "\n",
            "Epoch 15\n",
            "Adjusting learning rate of group 0 to 7.5000e-02.\n"
          ]
        },
        {
          "output_type": "stream",
          "name": "stderr",
          "text": [
            "Loss=0.6911292672157288 Batch_id=390 Train Accuracy=72.09: 100%|██████████| 391/391 [00:35<00:00, 11.14it/s]\n"
          ]
        },
        {
          "output_type": "stream",
          "name": "stdout",
          "text": [
            "\n",
            "Test set: Average loss: 0.5648, Test Accuracy: 8033/10000 (80.33%)\n",
            "\n",
            "Epoch 16\n",
            "Adjusting learning rate of group 0 to 7.5000e-02.\n"
          ]
        },
        {
          "output_type": "stream",
          "name": "stderr",
          "text": [
            "Loss=0.7237557172775269 Batch_id=390 Train Accuracy=72.61: 100%|██████████| 391/391 [00:34<00:00, 11.20it/s]\n"
          ]
        },
        {
          "output_type": "stream",
          "name": "stdout",
          "text": [
            "\n",
            "Test set: Average loss: 0.5559, Test Accuracy: 8078/10000 (80.78%)\n",
            "\n",
            "Epoch 17\n",
            "Adjusting learning rate of group 0 to 7.5000e-02.\n"
          ]
        },
        {
          "output_type": "stream",
          "name": "stderr",
          "text": [
            "Loss=1.0000555515289307 Batch_id=390 Train Accuracy=72.99: 100%|██████████| 391/391 [00:35<00:00, 11.17it/s]\n"
          ]
        },
        {
          "output_type": "stream",
          "name": "stdout",
          "text": [
            "\n",
            "Test set: Average loss: 0.5574, Test Accuracy: 8070/10000 (80.70%)\n",
            "\n",
            "Epoch 18\n",
            "Adjusting learning rate of group 0 to 3.7500e-02.\n"
          ]
        },
        {
          "output_type": "stream",
          "name": "stderr",
          "text": [
            "Loss=0.8308185338973999 Batch_id=390 Train Accuracy=74.63: 100%|██████████| 391/391 [00:34<00:00, 11.23it/s]\n"
          ]
        },
        {
          "output_type": "stream",
          "name": "stdout",
          "text": [
            "\n",
            "Test set: Average loss: 0.5177, Test Accuracy: 8210/10000 (82.10%)\n",
            "\n",
            "Epoch 19\n",
            "Adjusting learning rate of group 0 to 3.7500e-02.\n"
          ]
        },
        {
          "output_type": "stream",
          "name": "stderr",
          "text": [
            "Loss=0.7553498148918152 Batch_id=390 Train Accuracy=74.95: 100%|██████████| 391/391 [00:34<00:00, 11.21it/s]\n"
          ]
        },
        {
          "output_type": "stream",
          "name": "stdout",
          "text": [
            "\n",
            "Test set: Average loss: 0.5071, Test Accuracy: 8247/10000 (82.47%)\n",
            "\n",
            "Epoch 20\n",
            "Adjusting learning rate of group 0 to 3.7500e-02.\n"
          ]
        },
        {
          "output_type": "stream",
          "name": "stderr",
          "text": [
            "Loss=0.5155000686645508 Batch_id=390 Train Accuracy=75.25: 100%|██████████| 391/391 [00:34<00:00, 11.21it/s]\n"
          ]
        },
        {
          "output_type": "stream",
          "name": "stdout",
          "text": [
            "\n",
            "Test set: Average loss: 0.5069, Test Accuracy: 8257/10000 (82.57%)\n",
            "\n",
            "Epoch 21\n",
            "Adjusting learning rate of group 0 to 3.7500e-02.\n"
          ]
        },
        {
          "output_type": "stream",
          "name": "stderr",
          "text": [
            "Loss=0.786766767501831 Batch_id=390 Train Accuracy=75.53: 100%|██████████| 391/391 [00:34<00:00, 11.22it/s]\n"
          ]
        },
        {
          "output_type": "stream",
          "name": "stdout",
          "text": [
            "\n",
            "Test set: Average loss: 0.4972, Test Accuracy: 8316/10000 (83.16%)\n",
            "\n",
            "Epoch 22\n",
            "Adjusting learning rate of group 0 to 3.7500e-02.\n"
          ]
        },
        {
          "output_type": "stream",
          "name": "stderr",
          "text": [
            "Loss=0.9058271646499634 Batch_id=390 Train Accuracy=75.43: 100%|██████████| 391/391 [00:35<00:00, 11.16it/s]\n"
          ]
        },
        {
          "output_type": "stream",
          "name": "stdout",
          "text": [
            "\n",
            "Test set: Average loss: 0.5002, Test Accuracy: 8282/10000 (82.82%)\n",
            "\n",
            "Epoch 23\n",
            "Adjusting learning rate of group 0 to 3.7500e-02.\n"
          ]
        },
        {
          "output_type": "stream",
          "name": "stderr",
          "text": [
            "Loss=0.6615676879882812 Batch_id=390 Train Accuracy=75.98: 100%|██████████| 391/391 [00:34<00:00, 11.24it/s]\n"
          ]
        },
        {
          "output_type": "stream",
          "name": "stdout",
          "text": [
            "\n",
            "Test set: Average loss: 0.5156, Test Accuracy: 8216/10000 (82.16%)\n",
            "\n",
            "Epoch 24\n",
            "Adjusting learning rate of group 0 to 1.8750e-02.\n"
          ]
        },
        {
          "output_type": "stream",
          "name": "stderr",
          "text": [
            "Loss=0.8751840591430664 Batch_id=390 Train Accuracy=76.40: 100%|██████████| 391/391 [00:34<00:00, 11.29it/s]\n"
          ]
        },
        {
          "output_type": "stream",
          "name": "stdout",
          "text": [
            "\n",
            "Test set: Average loss: 0.4771, Test Accuracy: 8373/10000 (83.73%)\n",
            "\n",
            "Epoch 25\n",
            "Adjusting learning rate of group 0 to 1.8750e-02.\n"
          ]
        },
        {
          "output_type": "stream",
          "name": "stderr",
          "text": [
            "Loss=0.6796637177467346 Batch_id=390 Train Accuracy=76.71: 100%|██████████| 391/391 [00:34<00:00, 11.28it/s]\n"
          ]
        },
        {
          "output_type": "stream",
          "name": "stdout",
          "text": [
            "\n",
            "Test set: Average loss: 0.4845, Test Accuracy: 8382/10000 (83.82%)\n",
            "\n",
            "Epoch 26\n",
            "Adjusting learning rate of group 0 to 1.8750e-02.\n"
          ]
        },
        {
          "output_type": "stream",
          "name": "stderr",
          "text": [
            "Loss=0.7032225131988525 Batch_id=390 Train Accuracy=76.95: 100%|██████████| 391/391 [00:34<00:00, 11.30it/s]\n"
          ]
        },
        {
          "output_type": "stream",
          "name": "stdout",
          "text": [
            "\n",
            "Test set: Average loss: 0.4855, Test Accuracy: 8350/10000 (83.50%)\n",
            "\n",
            "Epoch 27\n",
            "Adjusting learning rate of group 0 to 1.8750e-02.\n"
          ]
        },
        {
          "output_type": "stream",
          "name": "stderr",
          "text": [
            "Loss=0.598229706287384 Batch_id=390 Train Accuracy=77.04: 100%|██████████| 391/391 [00:34<00:00, 11.32it/s]\n"
          ]
        },
        {
          "output_type": "stream",
          "name": "stdout",
          "text": [
            "\n",
            "Test set: Average loss: 0.4697, Test Accuracy: 8400/10000 (84.00%)\n",
            "\n",
            "Epoch 28\n",
            "Adjusting learning rate of group 0 to 1.8750e-02.\n"
          ]
        },
        {
          "output_type": "stream",
          "name": "stderr",
          "text": [
            "Loss=0.6627427339553833 Batch_id=390 Train Accuracy=77.08: 100%|██████████| 391/391 [00:35<00:00, 11.16it/s]\n"
          ]
        },
        {
          "output_type": "stream",
          "name": "stdout",
          "text": [
            "\n",
            "Test set: Average loss: 0.4702, Test Accuracy: 8400/10000 (84.00%)\n",
            "\n",
            "Epoch 29\n",
            "Adjusting learning rate of group 0 to 1.8750e-02.\n"
          ]
        },
        {
          "output_type": "stream",
          "name": "stderr",
          "text": [
            "Loss=0.8782215118408203 Batch_id=390 Train Accuracy=77.33: 100%|██████████| 391/391 [00:34<00:00, 11.27it/s]\n"
          ]
        },
        {
          "output_type": "stream",
          "name": "stdout",
          "text": [
            "\n",
            "Test set: Average loss: 0.4687, Test Accuracy: 8417/10000 (84.17%)\n",
            "\n",
            "Epoch 30\n",
            "Adjusting learning rate of group 0 to 9.3750e-03.\n"
          ]
        },
        {
          "output_type": "stream",
          "name": "stderr",
          "text": [
            "Loss=0.7439229488372803 Batch_id=390 Train Accuracy=77.50: 100%|██████████| 391/391 [00:34<00:00, 11.28it/s]\n"
          ]
        },
        {
          "output_type": "stream",
          "name": "stdout",
          "text": [
            "\n",
            "Test set: Average loss: 0.4570, Test Accuracy: 8468/10000 (84.68%)\n",
            "\n",
            "Epoch 31\n",
            "Adjusting learning rate of group 0 to 9.3750e-03.\n"
          ]
        },
        {
          "output_type": "stream",
          "name": "stderr",
          "text": [
            "Loss=0.6774629354476929 Batch_id=390 Train Accuracy=77.90: 100%|██████████| 391/391 [00:34<00:00, 11.25it/s]\n"
          ]
        },
        {
          "output_type": "stream",
          "name": "stdout",
          "text": [
            "\n",
            "Test set: Average loss: 0.4627, Test Accuracy: 8430/10000 (84.30%)\n",
            "\n",
            "Epoch 32\n",
            "Adjusting learning rate of group 0 to 9.3750e-03.\n"
          ]
        },
        {
          "output_type": "stream",
          "name": "stderr",
          "text": [
            "Loss=0.6939112544059753 Batch_id=390 Train Accuracy=77.83: 100%|██████████| 391/391 [00:34<00:00, 11.27it/s]\n"
          ]
        },
        {
          "output_type": "stream",
          "name": "stdout",
          "text": [
            "\n",
            "Test set: Average loss: 0.4549, Test Accuracy: 8461/10000 (84.61%)\n",
            "\n",
            "Epoch 33\n",
            "Adjusting learning rate of group 0 to 9.3750e-03.\n"
          ]
        },
        {
          "output_type": "stream",
          "name": "stderr",
          "text": [
            "Loss=0.911248505115509 Batch_id=390 Train Accuracy=78.07: 100%|██████████| 391/391 [00:34<00:00, 11.26it/s]\n"
          ]
        },
        {
          "output_type": "stream",
          "name": "stdout",
          "text": [
            "\n",
            "Test set: Average loss: 0.4543, Test Accuracy: 8458/10000 (84.58%)\n",
            "\n",
            "Epoch 34\n",
            "Adjusting learning rate of group 0 to 9.3750e-03.\n"
          ]
        },
        {
          "output_type": "stream",
          "name": "stderr",
          "text": [
            "Loss=0.9155467748641968 Batch_id=390 Train Accuracy=78.05: 100%|██████████| 391/391 [00:34<00:00, 11.27it/s]\n"
          ]
        },
        {
          "output_type": "stream",
          "name": "stdout",
          "text": [
            "\n",
            "Test set: Average loss: 0.4580, Test Accuracy: 8456/10000 (84.56%)\n",
            "\n",
            "Epoch 35\n",
            "Adjusting learning rate of group 0 to 9.3750e-03.\n"
          ]
        },
        {
          "output_type": "stream",
          "name": "stderr",
          "text": [
            "Loss=0.6052896976470947 Batch_id=390 Train Accuracy=78.26: 100%|██████████| 391/391 [00:34<00:00, 11.30it/s]\n"
          ]
        },
        {
          "output_type": "stream",
          "name": "stdout",
          "text": [
            "\n",
            "Test set: Average loss: 0.4554, Test Accuracy: 8482/10000 (84.82%)\n",
            "\n",
            "Epoch 36\n",
            "Adjusting learning rate of group 0 to 4.6875e-03.\n"
          ]
        },
        {
          "output_type": "stream",
          "name": "stderr",
          "text": [
            "Loss=0.649786651134491 Batch_id=390 Train Accuracy=78.20: 100%|██████████| 391/391 [00:34<00:00, 11.27it/s]\n"
          ]
        },
        {
          "output_type": "stream",
          "name": "stdout",
          "text": [
            "\n",
            "Test set: Average loss: 0.4545, Test Accuracy: 8453/10000 (84.53%)\n",
            "\n",
            "Epoch 37\n",
            "Adjusting learning rate of group 0 to 4.6875e-03.\n"
          ]
        },
        {
          "output_type": "stream",
          "name": "stderr",
          "text": [
            "Loss=0.7924937009811401 Batch_id=390 Train Accuracy=78.26: 100%|██████████| 391/391 [00:34<00:00, 11.26it/s]\n"
          ]
        },
        {
          "output_type": "stream",
          "name": "stdout",
          "text": [
            "\n",
            "Test set: Average loss: 0.4494, Test Accuracy: 8498/10000 (84.98%)\n",
            "\n",
            "Epoch 38\n",
            "Adjusting learning rate of group 0 to 4.6875e-03.\n"
          ]
        },
        {
          "output_type": "stream",
          "name": "stderr",
          "text": [
            "Loss=0.5731642842292786 Batch_id=390 Train Accuracy=78.40: 100%|██████████| 391/391 [00:34<00:00, 11.22it/s]\n"
          ]
        },
        {
          "output_type": "stream",
          "name": "stdout",
          "text": [
            "\n",
            "Test set: Average loss: 0.4458, Test Accuracy: 8472/10000 (84.72%)\n",
            "\n",
            "Epoch 39\n",
            "Adjusting learning rate of group 0 to 4.6875e-03.\n"
          ]
        },
        {
          "output_type": "stream",
          "name": "stderr",
          "text": [
            "Loss=0.7546798586845398 Batch_id=390 Train Accuracy=78.35: 100%|██████████| 391/391 [00:34<00:00, 11.21it/s]\n"
          ]
        },
        {
          "output_type": "stream",
          "name": "stdout",
          "text": [
            "\n",
            "Test set: Average loss: 0.4493, Test Accuracy: 8488/10000 (84.88%)\n",
            "\n",
            "Epoch 40\n",
            "Adjusting learning rate of group 0 to 4.6875e-03.\n"
          ]
        },
        {
          "output_type": "stream",
          "name": "stderr",
          "text": [
            "Loss=0.49897003173828125 Batch_id=390 Train Accuracy=78.67: 100%|██████████| 391/391 [00:34<00:00, 11.22it/s]\n"
          ]
        },
        {
          "output_type": "stream",
          "name": "stdout",
          "text": [
            "\n",
            "Test set: Average loss: 0.4457, Test Accuracy: 8498/10000 (84.98%)\n",
            "\n",
            "Epoch 41\n",
            "Adjusting learning rate of group 0 to 4.6875e-03.\n"
          ]
        },
        {
          "output_type": "stream",
          "name": "stderr",
          "text": [
            "Loss=0.5630077123641968 Batch_id=390 Train Accuracy=78.54: 100%|██████████| 391/391 [00:34<00:00, 11.25it/s]\n"
          ]
        },
        {
          "output_type": "stream",
          "name": "stdout",
          "text": [
            "\n",
            "Test set: Average loss: 0.4417, Test Accuracy: 8485/10000 (84.85%)\n",
            "\n",
            "Epoch 42\n",
            "Adjusting learning rate of group 0 to 2.3437e-03.\n"
          ]
        },
        {
          "output_type": "stream",
          "name": "stderr",
          "text": [
            "Loss=0.501257061958313 Batch_id=390 Train Accuracy=78.41: 100%|██████████| 391/391 [00:34<00:00, 11.21it/s]\n"
          ]
        },
        {
          "output_type": "stream",
          "name": "stdout",
          "text": [
            "\n",
            "Test set: Average loss: 0.4448, Test Accuracy: 8512/10000 (85.12%)\n",
            "\n",
            "Epoch 43\n",
            "Adjusting learning rate of group 0 to 2.3437e-03.\n"
          ]
        },
        {
          "output_type": "stream",
          "name": "stderr",
          "text": [
            "Loss=0.6091597676277161 Batch_id=390 Train Accuracy=78.83: 100%|██████████| 391/391 [00:34<00:00, 11.24it/s]\n"
          ]
        },
        {
          "output_type": "stream",
          "name": "stdout",
          "text": [
            "\n",
            "Test set: Average loss: 0.4437, Test Accuracy: 8505/10000 (85.05%)\n",
            "\n",
            "Epoch 44\n",
            "Adjusting learning rate of group 0 to 2.3437e-03.\n"
          ]
        },
        {
          "output_type": "stream",
          "name": "stderr",
          "text": [
            "Loss=0.8281367421150208 Batch_id=390 Train Accuracy=78.46: 100%|██████████| 391/391 [00:34<00:00, 11.24it/s]\n"
          ]
        },
        {
          "output_type": "stream",
          "name": "stdout",
          "text": [
            "\n",
            "Test set: Average loss: 0.4419, Test Accuracy: 8502/10000 (85.02%)\n",
            "\n",
            "Epoch 45\n",
            "Adjusting learning rate of group 0 to 2.3437e-03.\n"
          ]
        },
        {
          "output_type": "stream",
          "name": "stderr",
          "text": [
            "Loss=0.5171546936035156 Batch_id=390 Train Accuracy=78.52: 100%|██████████| 391/391 [00:34<00:00, 11.23it/s]\n"
          ]
        },
        {
          "output_type": "stream",
          "name": "stdout",
          "text": [
            "\n",
            "Test set: Average loss: 0.4433, Test Accuracy: 8499/10000 (84.99%)\n",
            "\n",
            "Epoch 46\n",
            "Adjusting learning rate of group 0 to 2.3437e-03.\n"
          ]
        },
        {
          "output_type": "stream",
          "name": "stderr",
          "text": [
            "Loss=0.6010599136352539 Batch_id=390 Train Accuracy=78.65: 100%|██████████| 391/391 [00:34<00:00, 11.24it/s]\n"
          ]
        },
        {
          "output_type": "stream",
          "name": "stdout",
          "text": [
            "\n",
            "Test set: Average loss: 0.4435, Test Accuracy: 8502/10000 (85.02%)\n",
            "\n",
            "Epoch 47\n",
            "Adjusting learning rate of group 0 to 2.3437e-03.\n"
          ]
        },
        {
          "output_type": "stream",
          "name": "stderr",
          "text": [
            "Loss=0.762342095375061 Batch_id=390 Train Accuracy=78.56: 100%|██████████| 391/391 [00:34<00:00, 11.20it/s]\n"
          ]
        },
        {
          "output_type": "stream",
          "name": "stdout",
          "text": [
            "\n",
            "Test set: Average loss: 0.4425, Test Accuracy: 8504/10000 (85.04%)\n",
            "\n",
            "Epoch 48\n",
            "Adjusting learning rate of group 0 to 1.1719e-03.\n"
          ]
        },
        {
          "output_type": "stream",
          "name": "stderr",
          "text": [
            "Loss=0.5879529714584351 Batch_id=390 Train Accuracy=78.83: 100%|██████████| 391/391 [00:34<00:00, 11.22it/s]\n"
          ]
        },
        {
          "output_type": "stream",
          "name": "stdout",
          "text": [
            "\n",
            "Test set: Average loss: 0.4413, Test Accuracy: 8504/10000 (85.04%)\n",
            "\n",
            "Epoch 49\n",
            "Adjusting learning rate of group 0 to 1.1719e-03.\n"
          ]
        },
        {
          "output_type": "stream",
          "name": "stderr",
          "text": [
            "Loss=0.6107453107833862 Batch_id=390 Train Accuracy=78.99: 100%|██████████| 391/391 [00:34<00:00, 11.23it/s]\n"
          ]
        },
        {
          "output_type": "stream",
          "name": "stdout",
          "text": [
            "\n",
            "Test set: Average loss: 0.4421, Test Accuracy: 8513/10000 (85.13%)\n",
            "\n",
            "Epoch 50\n",
            "Adjusting learning rate of group 0 to 1.1719e-03.\n"
          ]
        },
        {
          "output_type": "stream",
          "name": "stderr",
          "text": [
            "Loss=0.5588935613632202 Batch_id=390 Train Accuracy=78.77: 100%|██████████| 391/391 [00:34<00:00, 11.24it/s]\n"
          ]
        },
        {
          "output_type": "stream",
          "name": "stdout",
          "text": [
            "\n",
            "Test set: Average loss: 0.4418, Test Accuracy: 8505/10000 (85.05%)\n",
            "\n",
            "Epoch 51\n",
            "Adjusting learning rate of group 0 to 1.1719e-03.\n"
          ]
        },
        {
          "output_type": "stream",
          "name": "stderr",
          "text": [
            "Loss=0.7976652383804321 Batch_id=390 Train Accuracy=79.05: 100%|██████████| 391/391 [00:34<00:00, 11.22it/s]\n"
          ]
        },
        {
          "output_type": "stream",
          "name": "stdout",
          "text": [
            "\n",
            "Test set: Average loss: 0.4417, Test Accuracy: 8501/10000 (85.01%)\n",
            "\n",
            "Epoch 52\n",
            "Adjusting learning rate of group 0 to 1.1719e-03.\n"
          ]
        },
        {
          "output_type": "stream",
          "name": "stderr",
          "text": [
            "Loss=0.5675770044326782 Batch_id=390 Train Accuracy=78.81: 100%|██████████| 391/391 [00:34<00:00, 11.23it/s]\n"
          ]
        },
        {
          "output_type": "stream",
          "name": "stdout",
          "text": [
            "\n",
            "Test set: Average loss: 0.4395, Test Accuracy: 8526/10000 (85.26%)\n",
            "\n",
            "Epoch 53\n",
            "Adjusting learning rate of group 0 to 1.1719e-03.\n"
          ]
        },
        {
          "output_type": "stream",
          "name": "stderr",
          "text": [
            "Loss=0.798388659954071 Batch_id=390 Train Accuracy=78.83: 100%|██████████| 391/391 [00:34<00:00, 11.26it/s]\n"
          ]
        },
        {
          "output_type": "stream",
          "name": "stdout",
          "text": [
            "\n",
            "Test set: Average loss: 0.4441, Test Accuracy: 8510/10000 (85.10%)\n",
            "\n",
            "Epoch 54\n",
            "Adjusting learning rate of group 0 to 5.8594e-04.\n"
          ]
        },
        {
          "output_type": "stream",
          "name": "stderr",
          "text": [
            "Loss=0.518792986869812 Batch_id=390 Train Accuracy=78.79: 100%|██████████| 391/391 [00:35<00:00, 11.15it/s]\n"
          ]
        },
        {
          "output_type": "stream",
          "name": "stdout",
          "text": [
            "\n",
            "Test set: Average loss: 0.4381, Test Accuracy: 8520/10000 (85.20%)\n",
            "\n",
            "Epoch 55\n",
            "Adjusting learning rate of group 0 to 5.8594e-04.\n"
          ]
        },
        {
          "output_type": "stream",
          "name": "stderr",
          "text": [
            "Loss=0.7112861275672913 Batch_id=390 Train Accuracy=78.84: 100%|██████████| 391/391 [00:35<00:00, 11.14it/s]\n"
          ]
        },
        {
          "output_type": "stream",
          "name": "stdout",
          "text": [
            "\n",
            "Test set: Average loss: 0.4422, Test Accuracy: 8512/10000 (85.12%)\n",
            "\n",
            "Epoch 56\n",
            "Adjusting learning rate of group 0 to 5.8594e-04.\n"
          ]
        },
        {
          "output_type": "stream",
          "name": "stderr",
          "text": [
            "Loss=0.6410937309265137 Batch_id=390 Train Accuracy=78.98: 100%|██████████| 391/391 [00:35<00:00, 11.12it/s]\n"
          ]
        },
        {
          "output_type": "stream",
          "name": "stdout",
          "text": [
            "\n",
            "Test set: Average loss: 0.4396, Test Accuracy: 8508/10000 (85.08%)\n",
            "\n",
            "Epoch 57\n",
            "Adjusting learning rate of group 0 to 5.8594e-04.\n"
          ]
        },
        {
          "output_type": "stream",
          "name": "stderr",
          "text": [
            "Loss=0.6135997176170349 Batch_id=390 Train Accuracy=78.80: 100%|██████████| 391/391 [00:34<00:00, 11.18it/s]\n"
          ]
        },
        {
          "output_type": "stream",
          "name": "stdout",
          "text": [
            "\n",
            "Test set: Average loss: 0.4426, Test Accuracy: 8499/10000 (84.99%)\n",
            "\n",
            "Epoch 58\n",
            "Adjusting learning rate of group 0 to 5.8594e-04.\n"
          ]
        },
        {
          "output_type": "stream",
          "name": "stderr",
          "text": [
            "Loss=0.5443809032440186 Batch_id=390 Train Accuracy=78.70: 100%|██████████| 391/391 [00:34<00:00, 11.24it/s]\n"
          ]
        },
        {
          "output_type": "stream",
          "name": "stdout",
          "text": [
            "\n",
            "Test set: Average loss: 0.4391, Test Accuracy: 8514/10000 (85.14%)\n",
            "\n",
            "Epoch 59\n",
            "Adjusting learning rate of group 0 to 5.8594e-04.\n"
          ]
        },
        {
          "output_type": "stream",
          "name": "stderr",
          "text": [
            "Loss=0.610093355178833 Batch_id=390 Train Accuracy=78.90: 100%|██████████| 391/391 [00:35<00:00, 11.14it/s]\n"
          ]
        },
        {
          "output_type": "stream",
          "name": "stdout",
          "text": [
            "\n",
            "Test set: Average loss: 0.4401, Test Accuracy: 8507/10000 (85.07%)\n",
            "\n",
            "Epoch 60\n",
            "Adjusting learning rate of group 0 to 2.9297e-04.\n"
          ]
        },
        {
          "output_type": "stream",
          "name": "stderr",
          "text": [
            "Loss=0.6600242257118225 Batch_id=390 Train Accuracy=78.86: 100%|██████████| 391/391 [00:35<00:00, 11.14it/s]\n"
          ]
        },
        {
          "output_type": "stream",
          "name": "stdout",
          "text": [
            "\n",
            "Test set: Average loss: 0.4398, Test Accuracy: 8512/10000 (85.12%)\n",
            "\n",
            "Epoch 61\n",
            "Adjusting learning rate of group 0 to 2.9297e-04.\n"
          ]
        },
        {
          "output_type": "stream",
          "name": "stderr",
          "text": [
            "Loss=0.7028108835220337 Batch_id=390 Train Accuracy=79.10: 100%|██████████| 391/391 [00:35<00:00, 11.14it/s]\n"
          ]
        },
        {
          "output_type": "stream",
          "name": "stdout",
          "text": [
            "\n",
            "Test set: Average loss: 0.4391, Test Accuracy: 8500/10000 (85.00%)\n",
            "\n",
            "Epoch 62\n",
            "Adjusting learning rate of group 0 to 2.9297e-04.\n"
          ]
        },
        {
          "output_type": "stream",
          "name": "stderr",
          "text": [
            "Loss=0.5175703763961792 Batch_id=390 Train Accuracy=78.95: 100%|██████████| 391/391 [00:35<00:00, 11.16it/s]\n"
          ]
        },
        {
          "output_type": "stream",
          "name": "stdout",
          "text": [
            "\n",
            "Test set: Average loss: 0.4416, Test Accuracy: 8508/10000 (85.08%)\n",
            "\n",
            "Epoch 63\n",
            "Adjusting learning rate of group 0 to 2.9297e-04.\n"
          ]
        },
        {
          "output_type": "stream",
          "name": "stderr",
          "text": [
            "Loss=0.6721505522727966 Batch_id=390 Train Accuracy=78.85: 100%|██████████| 391/391 [00:35<00:00, 11.16it/s]\n"
          ]
        },
        {
          "output_type": "stream",
          "name": "stdout",
          "text": [
            "\n",
            "Test set: Average loss: 0.4420, Test Accuracy: 8508/10000 (85.08%)\n",
            "\n",
            "Epoch 64\n",
            "Adjusting learning rate of group 0 to 2.9297e-04.\n"
          ]
        },
        {
          "output_type": "stream",
          "name": "stderr",
          "text": [
            "Loss=0.7633830904960632 Batch_id=390 Train Accuracy=78.79: 100%|██████████| 391/391 [00:35<00:00, 11.15it/s]\n"
          ]
        },
        {
          "output_type": "stream",
          "name": "stdout",
          "text": [
            "\n",
            "Test set: Average loss: 0.4406, Test Accuracy: 8522/10000 (85.22%)\n",
            "\n",
            "Epoch 65\n",
            "Adjusting learning rate of group 0 to 2.9297e-04.\n"
          ]
        },
        {
          "output_type": "stream",
          "name": "stderr",
          "text": [
            "Loss=0.6431142687797546 Batch_id=390 Train Accuracy=79.02: 100%|██████████| 391/391 [00:35<00:00, 11.15it/s]\n"
          ]
        },
        {
          "output_type": "stream",
          "name": "stdout",
          "text": [
            "\n",
            "Test set: Average loss: 0.4432, Test Accuracy: 8497/10000 (84.97%)\n",
            "\n",
            "Epoch 66\n",
            "Adjusting learning rate of group 0 to 1.4648e-04.\n"
          ]
        },
        {
          "output_type": "stream",
          "name": "stderr",
          "text": [
            "Loss=0.6801896095275879 Batch_id=390 Train Accuracy=79.09: 100%|██████████| 391/391 [00:35<00:00, 11.17it/s]\n"
          ]
        },
        {
          "output_type": "stream",
          "name": "stdout",
          "text": [
            "\n",
            "Test set: Average loss: 0.4410, Test Accuracy: 8502/10000 (85.02%)\n",
            "\n",
            "Epoch 67\n",
            "Adjusting learning rate of group 0 to 1.4648e-04.\n"
          ]
        },
        {
          "output_type": "stream",
          "name": "stderr",
          "text": [
            "Loss=0.4937516152858734 Batch_id=390 Train Accuracy=78.84: 100%|██████████| 391/391 [00:35<00:00, 11.12it/s]\n"
          ]
        },
        {
          "output_type": "stream",
          "name": "stdout",
          "text": [
            "\n",
            "Test set: Average loss: 0.4392, Test Accuracy: 8520/10000 (85.20%)\n",
            "\n",
            "Epoch 68\n",
            "Adjusting learning rate of group 0 to 1.4648e-04.\n"
          ]
        },
        {
          "output_type": "stream",
          "name": "stderr",
          "text": [
            "Loss=0.6095457077026367 Batch_id=390 Train Accuracy=79.09: 100%|██████████| 391/391 [00:35<00:00, 11.10it/s]\n"
          ]
        },
        {
          "output_type": "stream",
          "name": "stdout",
          "text": [
            "\n",
            "Test set: Average loss: 0.4390, Test Accuracy: 8516/10000 (85.16%)\n",
            "\n",
            "Epoch 69\n",
            "Adjusting learning rate of group 0 to 1.4648e-04.\n"
          ]
        },
        {
          "output_type": "stream",
          "name": "stderr",
          "text": [
            "Loss=0.49135369062423706 Batch_id=390 Train Accuracy=78.95: 100%|██████████| 391/391 [00:34<00:00, 11.18it/s]\n"
          ]
        },
        {
          "output_type": "stream",
          "name": "stdout",
          "text": [
            "\n",
            "Test set: Average loss: 0.4410, Test Accuracy: 8515/10000 (85.15%)\n",
            "\n",
            "Epoch 70\n",
            "Adjusting learning rate of group 0 to 1.4648e-04.\n"
          ]
        },
        {
          "output_type": "stream",
          "name": "stderr",
          "text": [
            "Loss=0.6972922682762146 Batch_id=390 Train Accuracy=79.10: 100%|██████████| 391/391 [00:34<00:00, 11.21it/s]\n"
          ]
        },
        {
          "output_type": "stream",
          "name": "stdout",
          "text": [
            "\n",
            "Test set: Average loss: 0.4382, Test Accuracy: 8514/10000 (85.14%)\n",
            "\n",
            "Epoch 71\n",
            "Adjusting learning rate of group 0 to 1.4648e-04.\n"
          ]
        },
        {
          "output_type": "stream",
          "name": "stderr",
          "text": [
            "Loss=0.476317822933197 Batch_id=390 Train Accuracy=79.00: 100%|██████████| 391/391 [00:35<00:00, 11.14it/s]\n"
          ]
        },
        {
          "output_type": "stream",
          "name": "stdout",
          "text": [
            "\n",
            "Test set: Average loss: 0.4410, Test Accuracy: 8510/10000 (85.10%)\n",
            "\n",
            "Epoch 72\n",
            "Adjusting learning rate of group 0 to 7.3242e-05.\n"
          ]
        },
        {
          "output_type": "stream",
          "name": "stderr",
          "text": [
            "Loss=0.7979909777641296 Batch_id=390 Train Accuracy=78.70: 100%|██████████| 391/391 [00:35<00:00, 11.13it/s]\n"
          ]
        },
        {
          "output_type": "stream",
          "name": "stdout",
          "text": [
            "\n",
            "Test set: Average loss: 0.4414, Test Accuracy: 8513/10000 (85.13%)\n",
            "\n",
            "Epoch 73\n",
            "Adjusting learning rate of group 0 to 7.3242e-05.\n"
          ]
        },
        {
          "output_type": "stream",
          "name": "stderr",
          "text": [
            "Loss=0.7559971809387207 Batch_id=390 Train Accuracy=78.95: 100%|██████████| 391/391 [00:35<00:00, 11.14it/s]\n"
          ]
        },
        {
          "output_type": "stream",
          "name": "stdout",
          "text": [
            "\n",
            "Test set: Average loss: 0.4422, Test Accuracy: 8515/10000 (85.15%)\n",
            "\n",
            "Epoch 74\n",
            "Adjusting learning rate of group 0 to 7.3242e-05.\n"
          ]
        },
        {
          "output_type": "stream",
          "name": "stderr",
          "text": [
            "Loss=0.6715154647827148 Batch_id=390 Train Accuracy=79.13: 100%|██████████| 391/391 [00:35<00:00, 11.16it/s]\n"
          ]
        },
        {
          "output_type": "stream",
          "name": "stdout",
          "text": [
            "\n",
            "Test set: Average loss: 0.4404, Test Accuracy: 8508/10000 (85.08%)\n",
            "\n",
            "Epoch 75\n",
            "Adjusting learning rate of group 0 to 7.3242e-05.\n"
          ]
        },
        {
          "output_type": "stream",
          "name": "stderr",
          "text": [
            "Loss=0.5176915526390076 Batch_id=390 Train Accuracy=79.05: 100%|██████████| 391/391 [00:35<00:00, 11.10it/s]\n"
          ]
        },
        {
          "output_type": "stream",
          "name": "stdout",
          "text": [
            "\n",
            "Test set: Average loss: 0.4393, Test Accuracy: 8516/10000 (85.16%)\n",
            "\n",
            "Epoch 76\n",
            "Adjusting learning rate of group 0 to 7.3242e-05.\n"
          ]
        },
        {
          "output_type": "stream",
          "name": "stderr",
          "text": [
            "Loss=0.7938100099563599 Batch_id=390 Train Accuracy=79.06: 100%|██████████| 391/391 [00:35<00:00, 10.99it/s]\n"
          ]
        },
        {
          "output_type": "stream",
          "name": "stdout",
          "text": [
            "\n",
            "Test set: Average loss: 0.4407, Test Accuracy: 8505/10000 (85.05%)\n",
            "\n",
            "Epoch 77\n",
            "Adjusting learning rate of group 0 to 7.3242e-05.\n"
          ]
        },
        {
          "output_type": "stream",
          "name": "stderr",
          "text": [
            "Loss=0.5684240460395813 Batch_id=113 Train Accuracy=79.27:  29%|██▉       | 114/391 [00:10<00:25, 10.72it/s]\n"
          ]
        },
        {
          "output_type": "error",
          "ename": "KeyboardInterrupt",
          "evalue": "ignored",
          "traceback": [
            "\u001b[0;31m---------------------------------------------------------------------------\u001b[0m",
            "\u001b[0;31mKeyboardInterrupt\u001b[0m                         Traceback (most recent call last)",
            "\u001b[0;32m<ipython-input-5-be2e34faeb0c>\u001b[0m in \u001b[0;36m<module>\u001b[0;34m()\u001b[0m\n\u001b[1;32m     13\u001b[0m     \u001b[0mscheduler\u001b[0m\u001b[0;34m.\u001b[0m\u001b[0mstep\u001b[0m\u001b[0;34m(\u001b[0m\u001b[0;34m)\u001b[0m\u001b[0;34m\u001b[0m\u001b[0;34m\u001b[0m\u001b[0m\n\u001b[1;32m     14\u001b[0m \u001b[0;34m\u001b[0m\u001b[0m\n\u001b[0;32m---> 15\u001b[0;31m     \u001b[0mx\u001b[0m\u001b[0;34m,\u001b[0m\u001b[0my\u001b[0m \u001b[0;34m=\u001b[0m \u001b[0mtrain\u001b[0m\u001b[0;34m(\u001b[0m\u001b[0mmodel\u001b[0m\u001b[0;34m,\u001b[0m \u001b[0mdevice\u001b[0m\u001b[0;34m,\u001b[0m \u001b[0mtrain_loader\u001b[0m \u001b[0;34m=\u001b[0m \u001b[0mtrainloader\u001b[0m\u001b[0;34m,\u001b[0m \u001b[0moptimizer\u001b[0m \u001b[0;34m=\u001b[0m \u001b[0moptimizer\u001b[0m\u001b[0;34m,\u001b[0m\u001b[0mepoch\u001b[0m \u001b[0;34m=\u001b[0m  \u001b[0mepoch\u001b[0m\u001b[0;34m)\u001b[0m\u001b[0;34m\u001b[0m\u001b[0;34m\u001b[0m\u001b[0m\n\u001b[0m\u001b[1;32m     16\u001b[0m     \u001b[0ma\u001b[0m\u001b[0;34m,\u001b[0m\u001b[0mb\u001b[0m \u001b[0;34m=\u001b[0m \u001b[0mtest\u001b[0m\u001b[0;34m(\u001b[0m\u001b[0mmodel\u001b[0m\u001b[0;34m,\u001b[0m \u001b[0mdevice\u001b[0m\u001b[0;34m,\u001b[0m \u001b[0mtest_loader\u001b[0m \u001b[0;34m=\u001b[0m \u001b[0mtestloader\u001b[0m\u001b[0;34m)\u001b[0m\u001b[0;34m\u001b[0m\u001b[0;34m\u001b[0m\u001b[0m\n\u001b[1;32m     17\u001b[0m \u001b[0;34m\u001b[0m\u001b[0m\n",
            "\u001b[0;32m/content/train.py\u001b[0m in \u001b[0;36mtrain\u001b[0;34m(model, device, optimizer, epoch, train_loader)\u001b[0m\n\u001b[1;32m     29\u001b[0m \u001b[0;34m\u001b[0m\u001b[0m\n\u001b[1;32m     30\u001b[0m         \u001b[0;31m# print statistics\u001b[0m\u001b[0;34m\u001b[0m\u001b[0;34m\u001b[0m\u001b[0;34m\u001b[0m\u001b[0m\n\u001b[0;32m---> 31\u001b[0;31m         \u001b[0mrunning_loss\u001b[0m \u001b[0;34m+=\u001b[0m \u001b[0mloss\u001b[0m\u001b[0;34m.\u001b[0m\u001b[0mitem\u001b[0m\u001b[0;34m(\u001b[0m\u001b[0;34m)\u001b[0m\u001b[0;34m\u001b[0m\u001b[0;34m\u001b[0m\u001b[0m\n\u001b[0m\u001b[1;32m     32\u001b[0m \u001b[0;34m\u001b[0m\u001b[0m\n\u001b[1;32m     33\u001b[0m         \u001b[0;31m#printing training logs\u001b[0m\u001b[0;34m\u001b[0m\u001b[0;34m\u001b[0m\u001b[0;34m\u001b[0m\u001b[0m\n",
            "\u001b[0;31mKeyboardInterrupt\u001b[0m: "
          ]
        }
      ]
    },
    {
      "cell_type": "code",
      "metadata": {
        "id": "cYcRbla3y_lz"
      },
      "source": [
        ""
      ],
      "execution_count": null,
      "outputs": []
    }
  ]
}